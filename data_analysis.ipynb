{
 "metadata": {
  "language_info": {
   "codemirror_mode": {
    "name": "ipython",
    "version": 3
   },
   "file_extension": ".py",
   "mimetype": "text/x-python",
   "name": "python",
   "nbconvert_exporter": "python",
   "pygments_lexer": "ipython3",
   "version": "3.8.5"
  },
  "orig_nbformat": 2,
  "kernelspec": {
   "name": "python385jvsc74a57bd0c5e48f84046969b800ff52f6d80523bcd1ca3fb1a99f1449e4197bf6c73dc096",
   "display_name": "Python 3.8.5 64-bit ('base': conda)"
  }
 },
 "nbformat": 4,
 "nbformat_minor": 2,
 "cells": [
  {
   "cell_type": "code",
   "execution_count": 1,
   "metadata": {},
   "outputs": [],
   "source": [
    "from __future__ import annotations\n",
    "from typing import *\n",
    "from CKD_pipeline1 import *"
   ]
  },
  {
   "cell_type": "code",
   "execution_count": 2,
   "metadata": {},
   "outputs": [
    {
     "output_type": "execute_result",
     "data": {
      "text/plain": [
       "      id   age    bp     sg   al   su     rbc        pc         pcc  \\\n",
       "0      0  48.0  80.0  1.020  1.0  0.0     NaN    normal  notpresent   \n",
       "1      1   7.0  50.0  1.020  4.0  0.0     NaN    normal  notpresent   \n",
       "2      2  62.0  80.0  1.010  2.0  3.0  normal    normal  notpresent   \n",
       "3      3  48.0  70.0  1.005  4.0  0.0  normal  abnormal     present   \n",
       "4      4  51.0  80.0  1.010  2.0  0.0  normal    normal  notpresent   \n",
       "..   ...   ...   ...    ...  ...  ...     ...       ...         ...   \n",
       "395  395  55.0  80.0  1.020  0.0  0.0  normal    normal  notpresent   \n",
       "396  396  42.0  70.0  1.025  0.0  0.0  normal    normal  notpresent   \n",
       "397  397  12.0  80.0  1.020  0.0  0.0  normal    normal  notpresent   \n",
       "398  398  17.0  60.0  1.025  0.0  0.0  normal    normal  notpresent   \n",
       "399  399  58.0  80.0  1.025  0.0  0.0  normal    normal  notpresent   \n",
       "\n",
       "             ba  ...  pcv    wc   rc  htn   dm  cad appet   pe  ane  \\\n",
       "0    notpresent  ...   44  7800  5.2  yes  yes   no  good   no   no   \n",
       "1    notpresent  ...   38  6000  NaN   no   no   no  good   no   no   \n",
       "2    notpresent  ...   31  7500  NaN   no  yes   no  poor   no  yes   \n",
       "3    notpresent  ...   32  6700  3.9  yes   no   no  poor  yes  yes   \n",
       "4    notpresent  ...   35  7300  4.6   no   no   no  good   no   no   \n",
       "..          ...  ...  ...   ...  ...  ...  ...  ...   ...  ...  ...   \n",
       "395  notpresent  ...   47  6700  4.9   no   no   no  good   no   no   \n",
       "396  notpresent  ...   54  7800  6.2   no   no   no  good   no   no   \n",
       "397  notpresent  ...   49  6600  5.4   no   no   no  good   no   no   \n",
       "398  notpresent  ...   51  7200  5.9   no   no   no  good   no   no   \n",
       "399  notpresent  ...   53  6800  6.1   no   no   no  good   no   no   \n",
       "\n",
       "    classification  \n",
       "0              ckd  \n",
       "1              ckd  \n",
       "2              ckd  \n",
       "3              ckd  \n",
       "4              ckd  \n",
       "..             ...  \n",
       "395         notckd  \n",
       "396         notckd  \n",
       "397         notckd  \n",
       "398         notckd  \n",
       "399         notckd  \n",
       "\n",
       "[400 rows x 26 columns]"
      ],
      "text/html": "<div>\n<style scoped>\n    .dataframe tbody tr th:only-of-type {\n        vertical-align: middle;\n    }\n\n    .dataframe tbody tr th {\n        vertical-align: top;\n    }\n\n    .dataframe thead th {\n        text-align: right;\n    }\n</style>\n<table border=\"1\" class=\"dataframe\">\n  <thead>\n    <tr style=\"text-align: right;\">\n      <th></th>\n      <th>id</th>\n      <th>age</th>\n      <th>bp</th>\n      <th>sg</th>\n      <th>al</th>\n      <th>su</th>\n      <th>rbc</th>\n      <th>pc</th>\n      <th>pcc</th>\n      <th>ba</th>\n      <th>...</th>\n      <th>pcv</th>\n      <th>wc</th>\n      <th>rc</th>\n      <th>htn</th>\n      <th>dm</th>\n      <th>cad</th>\n      <th>appet</th>\n      <th>pe</th>\n      <th>ane</th>\n      <th>classification</th>\n    </tr>\n  </thead>\n  <tbody>\n    <tr>\n      <th>0</th>\n      <td>0</td>\n      <td>48.0</td>\n      <td>80.0</td>\n      <td>1.020</td>\n      <td>1.0</td>\n      <td>0.0</td>\n      <td>NaN</td>\n      <td>normal</td>\n      <td>notpresent</td>\n      <td>notpresent</td>\n      <td>...</td>\n      <td>44</td>\n      <td>7800</td>\n      <td>5.2</td>\n      <td>yes</td>\n      <td>yes</td>\n      <td>no</td>\n      <td>good</td>\n      <td>no</td>\n      <td>no</td>\n      <td>ckd</td>\n    </tr>\n    <tr>\n      <th>1</th>\n      <td>1</td>\n      <td>7.0</td>\n      <td>50.0</td>\n      <td>1.020</td>\n      <td>4.0</td>\n      <td>0.0</td>\n      <td>NaN</td>\n      <td>normal</td>\n      <td>notpresent</td>\n      <td>notpresent</td>\n      <td>...</td>\n      <td>38</td>\n      <td>6000</td>\n      <td>NaN</td>\n      <td>no</td>\n      <td>no</td>\n      <td>no</td>\n      <td>good</td>\n      <td>no</td>\n      <td>no</td>\n      <td>ckd</td>\n    </tr>\n    <tr>\n      <th>2</th>\n      <td>2</td>\n      <td>62.0</td>\n      <td>80.0</td>\n      <td>1.010</td>\n      <td>2.0</td>\n      <td>3.0</td>\n      <td>normal</td>\n      <td>normal</td>\n      <td>notpresent</td>\n      <td>notpresent</td>\n      <td>...</td>\n      <td>31</td>\n      <td>7500</td>\n      <td>NaN</td>\n      <td>no</td>\n      <td>yes</td>\n      <td>no</td>\n      <td>poor</td>\n      <td>no</td>\n      <td>yes</td>\n      <td>ckd</td>\n    </tr>\n    <tr>\n      <th>3</th>\n      <td>3</td>\n      <td>48.0</td>\n      <td>70.0</td>\n      <td>1.005</td>\n      <td>4.0</td>\n      <td>0.0</td>\n      <td>normal</td>\n      <td>abnormal</td>\n      <td>present</td>\n      <td>notpresent</td>\n      <td>...</td>\n      <td>32</td>\n      <td>6700</td>\n      <td>3.9</td>\n      <td>yes</td>\n      <td>no</td>\n      <td>no</td>\n      <td>poor</td>\n      <td>yes</td>\n      <td>yes</td>\n      <td>ckd</td>\n    </tr>\n    <tr>\n      <th>4</th>\n      <td>4</td>\n      <td>51.0</td>\n      <td>80.0</td>\n      <td>1.010</td>\n      <td>2.0</td>\n      <td>0.0</td>\n      <td>normal</td>\n      <td>normal</td>\n      <td>notpresent</td>\n      <td>notpresent</td>\n      <td>...</td>\n      <td>35</td>\n      <td>7300</td>\n      <td>4.6</td>\n      <td>no</td>\n      <td>no</td>\n      <td>no</td>\n      <td>good</td>\n      <td>no</td>\n      <td>no</td>\n      <td>ckd</td>\n    </tr>\n    <tr>\n      <th>...</th>\n      <td>...</td>\n      <td>...</td>\n      <td>...</td>\n      <td>...</td>\n      <td>...</td>\n      <td>...</td>\n      <td>...</td>\n      <td>...</td>\n      <td>...</td>\n      <td>...</td>\n      <td>...</td>\n      <td>...</td>\n      <td>...</td>\n      <td>...</td>\n      <td>...</td>\n      <td>...</td>\n      <td>...</td>\n      <td>...</td>\n      <td>...</td>\n      <td>...</td>\n      <td>...</td>\n    </tr>\n    <tr>\n      <th>395</th>\n      <td>395</td>\n      <td>55.0</td>\n      <td>80.0</td>\n      <td>1.020</td>\n      <td>0.0</td>\n      <td>0.0</td>\n      <td>normal</td>\n      <td>normal</td>\n      <td>notpresent</td>\n      <td>notpresent</td>\n      <td>...</td>\n      <td>47</td>\n      <td>6700</td>\n      <td>4.9</td>\n      <td>no</td>\n      <td>no</td>\n      <td>no</td>\n      <td>good</td>\n      <td>no</td>\n      <td>no</td>\n      <td>notckd</td>\n    </tr>\n    <tr>\n      <th>396</th>\n      <td>396</td>\n      <td>42.0</td>\n      <td>70.0</td>\n      <td>1.025</td>\n      <td>0.0</td>\n      <td>0.0</td>\n      <td>normal</td>\n      <td>normal</td>\n      <td>notpresent</td>\n      <td>notpresent</td>\n      <td>...</td>\n      <td>54</td>\n      <td>7800</td>\n      <td>6.2</td>\n      <td>no</td>\n      <td>no</td>\n      <td>no</td>\n      <td>good</td>\n      <td>no</td>\n      <td>no</td>\n      <td>notckd</td>\n    </tr>\n    <tr>\n      <th>397</th>\n      <td>397</td>\n      <td>12.0</td>\n      <td>80.0</td>\n      <td>1.020</td>\n      <td>0.0</td>\n      <td>0.0</td>\n      <td>normal</td>\n      <td>normal</td>\n      <td>notpresent</td>\n      <td>notpresent</td>\n      <td>...</td>\n      <td>49</td>\n      <td>6600</td>\n      <td>5.4</td>\n      <td>no</td>\n      <td>no</td>\n      <td>no</td>\n      <td>good</td>\n      <td>no</td>\n      <td>no</td>\n      <td>notckd</td>\n    </tr>\n    <tr>\n      <th>398</th>\n      <td>398</td>\n      <td>17.0</td>\n      <td>60.0</td>\n      <td>1.025</td>\n      <td>0.0</td>\n      <td>0.0</td>\n      <td>normal</td>\n      <td>normal</td>\n      <td>notpresent</td>\n      <td>notpresent</td>\n      <td>...</td>\n      <td>51</td>\n      <td>7200</td>\n      <td>5.9</td>\n      <td>no</td>\n      <td>no</td>\n      <td>no</td>\n      <td>good</td>\n      <td>no</td>\n      <td>no</td>\n      <td>notckd</td>\n    </tr>\n    <tr>\n      <th>399</th>\n      <td>399</td>\n      <td>58.0</td>\n      <td>80.0</td>\n      <td>1.025</td>\n      <td>0.0</td>\n      <td>0.0</td>\n      <td>normal</td>\n      <td>normal</td>\n      <td>notpresent</td>\n      <td>notpresent</td>\n      <td>...</td>\n      <td>53</td>\n      <td>6800</td>\n      <td>6.1</td>\n      <td>no</td>\n      <td>no</td>\n      <td>no</td>\n      <td>good</td>\n      <td>no</td>\n      <td>no</td>\n      <td>notckd</td>\n    </tr>\n  </tbody>\n</table>\n<p>400 rows × 26 columns</p>\n</div>"
     },
     "metadata": {},
     "execution_count": 2
    }
   ],
   "source": [
    "kidney: object = KidneyDataset('C:\\\\Users\\\\Lenovo\\\\OneDrive\\\\Desktop\\\\__Desktop\\\\Kidney\\\\kidney_disease.csv')\n",
    "\n",
    "#kidney.dataset = kidney.dataset.drop('id', axis=1 )\n",
    "kidney.dataset"
   ]
  },
  {
   "cell_type": "code",
   "execution_count": 3,
   "metadata": {},
   "outputs": [
    {
     "output_type": "stream",
     "name": "stdout",
     "text": [
      "Dataset Shape: (400, 26)\n----------------------------------------------------------------------------------------------------\nDataset features: ['id' 'age' 'bp' 'sg' 'al' 'su' 'rbc' 'pc' 'pcc' 'ba' 'bgr' 'bu' 'sc'\n 'sod' 'pot' 'hemo' 'pcv' 'wc' 'rc' 'htn' 'dm' 'cad' 'appet' 'pe' 'ane'\n 'classification']\n----------------------------------------------------------------------------------------------------\nDataset types: id                  int64\nage               float64\nbp                float64\nsg                float64\nal                float64\nsu                float64\nrbc                object\npc                 object\npcc                object\nba                 object\nbgr               float64\nbu                float64\nsc                float64\nsod               float64\npot               float64\nhemo              float64\npcv                object\nwc                 object\nrc                 object\nhtn                object\ndm                 object\ncad                object\nappet              object\npe                 object\nane                object\nclassification     object\ndtype: object\n----------------------------------------------------------------------------------------------------\n"
     ]
    }
   ],
   "source": [
    "gen_analysis: generator = KidneyAnalysis.characteristics(kidney.dataset)\n",
    "while True:\n",
    "    try: \n",
    "        print(gen_analysis.__next__())\n",
    "        print('-'*100)\n",
    "    except StopIteration: break"
   ]
  },
  {
   "cell_type": "code",
   "execution_count": 4,
   "metadata": {},
   "outputs": [
    {
     "output_type": "execute_result",
     "data": {
      "text/plain": [
       "     Age (yrs)  Blood Pressure (mm/Hg)  Specific Gravity  Albumin  Sugar  \\\n",
       "0         48.0                    80.0             1.020      1.0    0.0   \n",
       "1          7.0                    50.0             1.020      4.0    0.0   \n",
       "2         62.0                    80.0             1.010      2.0    3.0   \n",
       "3         48.0                    70.0             1.005      4.0    0.0   \n",
       "4         51.0                    80.0             1.010      2.0    0.0   \n",
       "..         ...                     ...               ...      ...    ...   \n",
       "395       55.0                    80.0             1.020      0.0    0.0   \n",
       "396       42.0                    70.0             1.025      0.0    0.0   \n",
       "397       12.0                    80.0             1.020      0.0    0.0   \n",
       "398       17.0                    60.0             1.025      0.0    0.0   \n",
       "399       58.0                    80.0             1.025      0.0    0.0   \n",
       "\n",
       "    Red Blood Cells Pus Cells Pus Cell Clumps    Bacteria  \\\n",
       "0               NaN    normal      notpresent  notpresent   \n",
       "1               NaN    normal      notpresent  notpresent   \n",
       "2            normal    normal      notpresent  notpresent   \n",
       "3            normal  abnormal         present  notpresent   \n",
       "4            normal    normal      notpresent  notpresent   \n",
       "..              ...       ...             ...         ...   \n",
       "395          normal    normal      notpresent  notpresent   \n",
       "396          normal    normal      notpresent  notpresent   \n",
       "397          normal    normal      notpresent  notpresent   \n",
       "398          normal    normal      notpresent  notpresent   \n",
       "399          normal    normal      notpresent  notpresent   \n",
       "\n",
       "     Blood Glucose Random (mgs/dL)  ...  Packed Cell Volume  \\\n",
       "0                            121.0  ...                  44   \n",
       "1                              NaN  ...                  38   \n",
       "2                            423.0  ...                  31   \n",
       "3                            117.0  ...                  32   \n",
       "4                            106.0  ...                  35   \n",
       "..                             ...  ...                 ...   \n",
       "395                          140.0  ...                  47   \n",
       "396                           75.0  ...                  54   \n",
       "397                          100.0  ...                  49   \n",
       "398                          114.0  ...                  51   \n",
       "399                          131.0  ...                  53   \n",
       "\n",
       "     White Blood Cells (cells/cmm)  Red Blood Cells (millions/cmm)  \\\n",
       "0                             7800                             5.2   \n",
       "1                             6000                             NaN   \n",
       "2                             7500                             NaN   \n",
       "3                             6700                             3.9   \n",
       "4                             7300                             4.6   \n",
       "..                             ...                             ...   \n",
       "395                           6700                             4.9   \n",
       "396                           7800                             6.2   \n",
       "397                           6600                             5.4   \n",
       "398                           7200                             5.9   \n",
       "399                           6800                             6.1   \n",
       "\n",
       "     Hypertension  Diabetes Mellitus Coronary Artery Disease Appetite  \\\n",
       "0             yes                yes                      no     good   \n",
       "1              no                 no                      no     good   \n",
       "2              no                yes                      no     poor   \n",
       "3             yes                 no                      no     poor   \n",
       "4              no                 no                      no     good   \n",
       "..            ...                ...                     ...      ...   \n",
       "395            no                 no                      no     good   \n",
       "396            no                 no                      no     good   \n",
       "397            no                 no                      no     good   \n",
       "398            no                 no                      no     good   \n",
       "399            no                 no                      no     good   \n",
       "\n",
       "    Pedal Edema Anemia Chronic Kidney Disease  \n",
       "0            no     no                    yes  \n",
       "1            no     no                    yes  \n",
       "2            no    yes                    yes  \n",
       "3           yes    yes                    yes  \n",
       "4            no     no                    yes  \n",
       "..          ...    ...                    ...  \n",
       "395          no     no                     no  \n",
       "396          no     no                     no  \n",
       "397          no     no                     no  \n",
       "398          no     no                     no  \n",
       "399          no     no                     no  \n",
       "\n",
       "[400 rows x 25 columns]"
      ],
      "text/html": "<div>\n<style scoped>\n    .dataframe tbody tr th:only-of-type {\n        vertical-align: middle;\n    }\n\n    .dataframe tbody tr th {\n        vertical-align: top;\n    }\n\n    .dataframe thead th {\n        text-align: right;\n    }\n</style>\n<table border=\"1\" class=\"dataframe\">\n  <thead>\n    <tr style=\"text-align: right;\">\n      <th></th>\n      <th>Age (yrs)</th>\n      <th>Blood Pressure (mm/Hg)</th>\n      <th>Specific Gravity</th>\n      <th>Albumin</th>\n      <th>Sugar</th>\n      <th>Red Blood Cells</th>\n      <th>Pus Cells</th>\n      <th>Pus Cell Clumps</th>\n      <th>Bacteria</th>\n      <th>Blood Glucose Random (mgs/dL)</th>\n      <th>...</th>\n      <th>Packed Cell Volume</th>\n      <th>White Blood Cells (cells/cmm)</th>\n      <th>Red Blood Cells (millions/cmm)</th>\n      <th>Hypertension</th>\n      <th>Diabetes Mellitus</th>\n      <th>Coronary Artery Disease</th>\n      <th>Appetite</th>\n      <th>Pedal Edema</th>\n      <th>Anemia</th>\n      <th>Chronic Kidney Disease</th>\n    </tr>\n  </thead>\n  <tbody>\n    <tr>\n      <th>0</th>\n      <td>48.0</td>\n      <td>80.0</td>\n      <td>1.020</td>\n      <td>1.0</td>\n      <td>0.0</td>\n      <td>NaN</td>\n      <td>normal</td>\n      <td>notpresent</td>\n      <td>notpresent</td>\n      <td>121.0</td>\n      <td>...</td>\n      <td>44</td>\n      <td>7800</td>\n      <td>5.2</td>\n      <td>yes</td>\n      <td>yes</td>\n      <td>no</td>\n      <td>good</td>\n      <td>no</td>\n      <td>no</td>\n      <td>yes</td>\n    </tr>\n    <tr>\n      <th>1</th>\n      <td>7.0</td>\n      <td>50.0</td>\n      <td>1.020</td>\n      <td>4.0</td>\n      <td>0.0</td>\n      <td>NaN</td>\n      <td>normal</td>\n      <td>notpresent</td>\n      <td>notpresent</td>\n      <td>NaN</td>\n      <td>...</td>\n      <td>38</td>\n      <td>6000</td>\n      <td>NaN</td>\n      <td>no</td>\n      <td>no</td>\n      <td>no</td>\n      <td>good</td>\n      <td>no</td>\n      <td>no</td>\n      <td>yes</td>\n    </tr>\n    <tr>\n      <th>2</th>\n      <td>62.0</td>\n      <td>80.0</td>\n      <td>1.010</td>\n      <td>2.0</td>\n      <td>3.0</td>\n      <td>normal</td>\n      <td>normal</td>\n      <td>notpresent</td>\n      <td>notpresent</td>\n      <td>423.0</td>\n      <td>...</td>\n      <td>31</td>\n      <td>7500</td>\n      <td>NaN</td>\n      <td>no</td>\n      <td>yes</td>\n      <td>no</td>\n      <td>poor</td>\n      <td>no</td>\n      <td>yes</td>\n      <td>yes</td>\n    </tr>\n    <tr>\n      <th>3</th>\n      <td>48.0</td>\n      <td>70.0</td>\n      <td>1.005</td>\n      <td>4.0</td>\n      <td>0.0</td>\n      <td>normal</td>\n      <td>abnormal</td>\n      <td>present</td>\n      <td>notpresent</td>\n      <td>117.0</td>\n      <td>...</td>\n      <td>32</td>\n      <td>6700</td>\n      <td>3.9</td>\n      <td>yes</td>\n      <td>no</td>\n      <td>no</td>\n      <td>poor</td>\n      <td>yes</td>\n      <td>yes</td>\n      <td>yes</td>\n    </tr>\n    <tr>\n      <th>4</th>\n      <td>51.0</td>\n      <td>80.0</td>\n      <td>1.010</td>\n      <td>2.0</td>\n      <td>0.0</td>\n      <td>normal</td>\n      <td>normal</td>\n      <td>notpresent</td>\n      <td>notpresent</td>\n      <td>106.0</td>\n      <td>...</td>\n      <td>35</td>\n      <td>7300</td>\n      <td>4.6</td>\n      <td>no</td>\n      <td>no</td>\n      <td>no</td>\n      <td>good</td>\n      <td>no</td>\n      <td>no</td>\n      <td>yes</td>\n    </tr>\n    <tr>\n      <th>...</th>\n      <td>...</td>\n      <td>...</td>\n      <td>...</td>\n      <td>...</td>\n      <td>...</td>\n      <td>...</td>\n      <td>...</td>\n      <td>...</td>\n      <td>...</td>\n      <td>...</td>\n      <td>...</td>\n      <td>...</td>\n      <td>...</td>\n      <td>...</td>\n      <td>...</td>\n      <td>...</td>\n      <td>...</td>\n      <td>...</td>\n      <td>...</td>\n      <td>...</td>\n      <td>...</td>\n    </tr>\n    <tr>\n      <th>395</th>\n      <td>55.0</td>\n      <td>80.0</td>\n      <td>1.020</td>\n      <td>0.0</td>\n      <td>0.0</td>\n      <td>normal</td>\n      <td>normal</td>\n      <td>notpresent</td>\n      <td>notpresent</td>\n      <td>140.0</td>\n      <td>...</td>\n      <td>47</td>\n      <td>6700</td>\n      <td>4.9</td>\n      <td>no</td>\n      <td>no</td>\n      <td>no</td>\n      <td>good</td>\n      <td>no</td>\n      <td>no</td>\n      <td>no</td>\n    </tr>\n    <tr>\n      <th>396</th>\n      <td>42.0</td>\n      <td>70.0</td>\n      <td>1.025</td>\n      <td>0.0</td>\n      <td>0.0</td>\n      <td>normal</td>\n      <td>normal</td>\n      <td>notpresent</td>\n      <td>notpresent</td>\n      <td>75.0</td>\n      <td>...</td>\n      <td>54</td>\n      <td>7800</td>\n      <td>6.2</td>\n      <td>no</td>\n      <td>no</td>\n      <td>no</td>\n      <td>good</td>\n      <td>no</td>\n      <td>no</td>\n      <td>no</td>\n    </tr>\n    <tr>\n      <th>397</th>\n      <td>12.0</td>\n      <td>80.0</td>\n      <td>1.020</td>\n      <td>0.0</td>\n      <td>0.0</td>\n      <td>normal</td>\n      <td>normal</td>\n      <td>notpresent</td>\n      <td>notpresent</td>\n      <td>100.0</td>\n      <td>...</td>\n      <td>49</td>\n      <td>6600</td>\n      <td>5.4</td>\n      <td>no</td>\n      <td>no</td>\n      <td>no</td>\n      <td>good</td>\n      <td>no</td>\n      <td>no</td>\n      <td>no</td>\n    </tr>\n    <tr>\n      <th>398</th>\n      <td>17.0</td>\n      <td>60.0</td>\n      <td>1.025</td>\n      <td>0.0</td>\n      <td>0.0</td>\n      <td>normal</td>\n      <td>normal</td>\n      <td>notpresent</td>\n      <td>notpresent</td>\n      <td>114.0</td>\n      <td>...</td>\n      <td>51</td>\n      <td>7200</td>\n      <td>5.9</td>\n      <td>no</td>\n      <td>no</td>\n      <td>no</td>\n      <td>good</td>\n      <td>no</td>\n      <td>no</td>\n      <td>no</td>\n    </tr>\n    <tr>\n      <th>399</th>\n      <td>58.0</td>\n      <td>80.0</td>\n      <td>1.025</td>\n      <td>0.0</td>\n      <td>0.0</td>\n      <td>normal</td>\n      <td>normal</td>\n      <td>notpresent</td>\n      <td>notpresent</td>\n      <td>131.0</td>\n      <td>...</td>\n      <td>53</td>\n      <td>6800</td>\n      <td>6.1</td>\n      <td>no</td>\n      <td>no</td>\n      <td>no</td>\n      <td>good</td>\n      <td>no</td>\n      <td>no</td>\n      <td>no</td>\n    </tr>\n  </tbody>\n</table>\n<p>400 rows × 25 columns</p>\n</div>"
     },
     "metadata": {},
     "execution_count": 4
    }
   ],
   "source": [
    "kidney.dataset = KidneyAnalysis.data_typos_cleaning(dataset= kidney.dataset)\n",
    "kidney.dataset = KidneyAnalysis.chance_feature_names(dataset= kidney.dataset)\n",
    "kidney.dataset"
   ]
  },
  {
   "cell_type": "code",
   "execution_count": 5,
   "metadata": {},
   "outputs": [
    {
     "output_type": "stream",
     "name": "stdout",
     "text": [
      "Unique value in Age (yrs) : [48.  7. 62. 51. 60. 68. 24. 52. 53. 50. 63. 40. 47. 61. 21. 42. 75. 69.\n nan 73. 70. 65. 76. 72. 82. 46. 45. 35. 54. 11. 59. 67. 15. 55. 44. 26.\n 64. 56.  5. 74. 38. 58. 71. 34. 17. 12. 43. 41. 57.  8. 39. 66. 81. 14.\n 27. 83. 30.  4.  3.  6. 32. 80. 49. 90. 78. 19.  2. 33. 36. 37. 23. 25.\n 20. 29. 28. 22. 79.]\n----------------------------------------------------------------------------------------------------\nUnique value in Blood Pressure (mm/Hg) : [ 80.  50.  70.  90.  nan 100.  60. 110. 140. 180. 120.]\n----------------------------------------------------------------------------------------------------\nUnique value in Specific Gravity : [1.02  1.01  1.005 1.015   nan 1.025]\n----------------------------------------------------------------------------------------------------\nUnique value in Albumin : [ 1.  4.  2.  3.  0. nan  5.]\n----------------------------------------------------------------------------------------------------\nUnique value in Sugar : [ 0.  3.  4.  1. nan  2.  5.]\n----------------------------------------------------------------------------------------------------\nUnique value in Red Blood Cells : [nan 'normal' 'abnormal']\n----------------------------------------------------------------------------------------------------\nUnique value in Pus Cells : ['normal' 'abnormal' nan]\n----------------------------------------------------------------------------------------------------\nUnique value in Pus Cell Clumps : ['notpresent' 'present' nan]\n----------------------------------------------------------------------------------------------------\nUnique value in Bacteria : ['notpresent' 'present' nan]\n----------------------------------------------------------------------------------------------------\nUnique value in Blood Glucose Random (mgs/dL) : [121.  nan 423. 117. 106.  74. 100. 410. 138.  70. 490. 380. 208.  98.\n 157.  76.  99. 114. 263. 173.  95. 108. 156. 264. 123.  93. 107. 159.\n 140. 171. 270.  92. 137. 204.  79. 207. 124. 144.  91. 162. 246. 253.\n 141. 182.  86. 150. 146. 425. 112. 250. 360. 163. 129. 133. 102. 158.\n 165. 132. 104. 127. 415. 169. 251. 109. 280. 210. 219. 295.  94. 172.\n 101. 298. 153.  88. 226. 143. 115.  89. 297. 233. 294. 323. 125.  90.\n 308. 118. 224. 128. 122. 214. 213. 268. 256.  84. 105. 288. 139.  78.\n 273. 242. 424. 303. 148. 160. 192. 307. 220. 447. 309.  22. 111. 261.\n 215. 234. 131. 352.  80. 239. 110. 130. 184. 252. 113. 230. 341. 255.\n 103. 238. 248. 120. 241. 269. 201. 203. 463. 176.  82. 119.  97.  96.\n  81. 116. 134.  85.  83.  87.  75.]\n----------------------------------------------------------------------------------------------------\nUnique value in Blood Urea (mgs/dL) : [ 36.   18.   53.   56.   26.   25.   54.   31.   60.  107.   55.   72.\n  86.   90.  162.   46.   87.   27.  148.  180.  163.    nan  50.   75.\n  45.   28.  155.   33.   39.  153.   29.   65.  103.   70.   80.   20.\n 202.   77.   89.   24.   17.   32.  114.   66.   38.  164.  142.   96.\n 391.   15.  111.   73.   19.   92.   35.   16.  139.   48.   85.   98.\n 186.   37.   47.   52.   82.   51.  106.   22.  217.   88.  118.   50.1\n  71.   34.   40.   21.  219.   30.  125.  166.   49.  208.  176.   68.\n 145.  165.  322.   23.  235.  132.   76.   42.   44.   41.  113.    1.5\n 146.   58.  133.  137.   67.  115.  223.   98.6 158.   94.   74.  150.\n  61.   57.   95.  191.   93.  241.   64.   79.  215.  309.   10. ]\n----------------------------------------------------------------------------------------------------\nUnique value in Serum Creatinine (mgs/dL) : [ 1.2   0.8   1.8   3.8   1.4   1.1  24.    1.9   7.2   4.    2.7   2.1\n  4.6   4.1   9.6   2.2   5.2   1.3   1.6   3.9  76.    7.7    nan  2.4\n  7.3   1.5   2.5   2.    3.4   0.7   1.   10.8   6.3   5.9   0.9   3.\n  3.25  9.7   6.4   3.2  32.    0.6   6.1   3.3   6.7   8.5   2.8  15.\n  2.9   1.7   3.6   5.6   6.5   4.4  10.2  11.5   0.5  12.2   5.3   9.2\n 13.8  16.9   6.    7.1  18.    2.3  13.   48.1  14.2  16.4   2.6   7.5\n  4.3  18.1  11.8   9.3   6.8  13.5  12.8  11.9  12.   13.4  15.2  13.3\n  0.4 ]\n----------------------------------------------------------------------------------------------------\nUnique value in Sodium (mEq/L) : [  nan 111.  142.  104.  114.  131.  138.  135.  130.  141.  139.    4.5\n 136.  129.  140.  132.  133.  134.  125.  163.  137.  128.  143.  127.\n 146.  126.  122.  147.  124.  115.  145.  113.  120.  150.  144. ]\n----------------------------------------------------------------------------------------------------\nUnique value in Potassium (mEq/L) : [ nan  2.5  3.2  4.   3.7  4.2  5.8  3.4  6.4  4.9  4.1  4.3  5.2  3.8\n  4.6  3.9  4.7  5.9  4.8  4.4  6.6 39.   5.5  5.   3.5  3.6  7.6  2.9\n  4.5  5.7  5.4  5.3 47.   6.3  5.1  5.6  3.   2.8  2.7  6.5  3.3]\n----------------------------------------------------------------------------------------------------\nUnique value in Hemoglobin (gms) : [15.4 11.3  9.6 11.2 11.6 12.2 12.4 10.8  9.5  9.4  9.7  9.8  5.6  7.6\n 12.6 12.1 12.7 10.3  7.7 10.9  nan 11.1  9.9 12.5 12.9 10.1 12.  13.\n  7.9  9.3 15.  10.   8.6 13.6 10.2 10.5  6.6 11.   7.5 15.6 15.2  4.8\n  9.1  8.1 11.9 13.5  8.3  7.1 16.1 10.4  9.2  6.2 13.9 14.1  6.  11.8\n 11.7 11.4 14.   8.2 13.2  6.1  8.  12.3  8.4 14.3  9.   8.7 10.6 13.1\n 10.7  5.5  5.8  6.8  8.8  8.5 13.8 11.5  7.3 13.7 12.8 13.4  6.3  3.1\n 17.  15.9 14.5 15.5 16.2 14.4 14.2 16.3 14.8 16.5 15.7 13.3 14.6 16.4\n 16.9 16.  14.7 16.6 14.9 16.7 16.8 15.8 15.1 17.1 17.2 15.3 17.3 17.4\n 17.7 17.8 17.5 17.6]\n----------------------------------------------------------------------------------------------------\nUnique value in Packed Cell Volume : ['44' '38' '31' '32' '35' '39' '36' '33' '29' '28' nan '16' '24' '37' '30'\n '34' '40' '45' '27' '48' '52' '14' '22' '18' '42' '17' '46' '23' '19'\n '25' '41' '26' '15' '21' '43' '20' '47' '9' '49' '50' '53' '51' '54']\n----------------------------------------------------------------------------------------------------\nUnique value in White Blood Cells (cells/cmm) : ['7800' '6000' '7500' '6700' '7300' nan '6900' '9600' '12100' '4500'\n '12200' '11000' '3800' '11400' '5300' '9200' '6200' '8300' '8400' '10300'\n '9800' '9100' '7900' '6400' '8600' '18900' '21600' '4300' '8500' '11300'\n '7200' '7700' '14600' '6300' '7100' '11800' '9400' '5500' '5800' '13200'\n '12500' '5600' '7000' '11900' '10400' '10700' '12700' '6800' '6500'\n '13600' '10200' '9000' '14900' '8200' '15200' '5000' '16300' '12400'\n '10500' '4200' '4700' '10900' '8100' '9500' '2200' '12800' '11200'\n '19100' '12300' '16700' '2600' '26400' '8800' '7400' '4900' '8000'\n '12000' '15700' '4100' '5700' '11500' '5400' '10800' '9900' '5200' '5900'\n '9300' '9700' '5100' '6600']\n----------------------------------------------------------------------------------------------------\nUnique value in Red Blood Cells (millions/cmm) : ['5.2' nan '3.9' '4.6' '4.4' '5' '4.0' '3.7' '3.8' '3.4' '2.6' '2.8' '4.3'\n '3.2' '3.6' '4' '4.1' '4.9' '2.5' '4.2' '4.5' '3.1' '4.7' '3.5' '6.0'\n '5.0' '2.1' '5.6' '2.3' '2.9' '2.7' '8.0' '3.3' '3.0' '3' '2.4' '4.8'\n '5.4' '6.1' '6.2' '6.3' '5.1' '5.8' '5.5' '5.3' '6.4' '5.7' '5.9' '6.5']\n----------------------------------------------------------------------------------------------------\nUnique value in Hypertension : ['yes' 'no' nan]\n----------------------------------------------------------------------------------------------------\nUnique value in Diabetes Mellitus : ['yes' 'no' nan]\n----------------------------------------------------------------------------------------------------\nUnique value in Coronary Artery Disease : ['no' 'yes' nan]\n----------------------------------------------------------------------------------------------------\nUnique value in Appetite : ['good' 'poor' nan]\n----------------------------------------------------------------------------------------------------\nUnique value in Pedal Edema : ['no' 'yes' nan]\n----------------------------------------------------------------------------------------------------\nUnique value in Anemia : ['no' 'yes' nan]\n----------------------------------------------------------------------------------------------------\nUnique value in Chronic Kidney Disease : ['yes' 'no']\n----------------------------------------------------------------------------------------------------\n"
     ]
    }
   ],
   "source": [
    "gen_unique_values: Generator = KidneyAnalysis.unique_values(dataset= kidney.dataset)\n",
    "while True:\n",
    "    try:\n",
    "        print(gen_unique_values.__next__())\n",
    "        print('-'*100)\n",
    "    except StopIteration: break"
   ]
  },
  {
   "cell_type": "code",
   "execution_count": 6,
   "metadata": {},
   "outputs": [
    {
     "output_type": "stream",
     "name": "stdout",
     "text": [
      "Numerics features : ['Age (yrs)', 'Blood Pressure (mm/Hg)', 'Specific Gravity', 'Albumin', 'Sugar', 'Blood Glucose Random (mgs/dL)', 'Blood Urea (mgs/dL)', 'Serum Creatinine (mgs/dL)', 'Sodium (mEq/L)', 'Potassium (mEq/L)', 'Hemoglobin (gms)', 'Packed Cell Volume', 'White Blood Cells (cells/cmm)', 'Red Blood Cells (millions/cmm)', 'Packed Cell Volume', 'White Blood Cells (cells/cmm)', 'Red Blood Cells (millions/cmm)']\n----------------------------------------------------------------------------------------------------\nCategorical features: ['Red Blood Cells', 'Pus Cells', 'Pus Cell Clumps', 'Bacteria', 'Hypertension', 'Diabetes Mellitus', 'Coronary Artery Disease', 'Appetite', 'Pedal Edema', 'Anemia']\n"
     ]
    }
   ],
   "source": [
    "numerics_features: list[str] = KidneyAnalysis.numerics_features(dataset= kidney.dataset)\n",
    "categorical_features: list[str] = KidneyAnalysis.categorical_features(dataset= kidney.dataset)\n",
    "\n",
    "print(f'Numerics features : {numerics_features}')\n",
    "print('-'*100)\n",
    "print(f'Categorical features: {categorical_features}')\n"
   ]
  },
  {
   "cell_type": "code",
   "execution_count": 7,
   "metadata": {},
   "outputs": [],
   "source": [
    "KidneyVisualization.numerical_features_distribution(dataset= kidney.dataset, \n",
    "                                                    numeric= numerics_features)\n"
   ]
  },
  {
   "cell_type": "code",
   "execution_count": null,
   "metadata": {},
   "outputs": [],
   "source": []
  },
  {
   "cell_type": "code",
   "execution_count": null,
   "metadata": {},
   "outputs": [],
   "source": []
  }
 ]
}